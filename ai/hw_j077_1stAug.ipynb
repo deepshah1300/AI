{
  "nbformat": 4,
  "nbformat_minor": 0,
  "metadata": {
    "colab": {
      "name": "Untitled15.ipynb",
      "provenance": [],
      "authorship_tag": "ABX9TyMiISzuiWUoIyB0iFNkN8jc",
      "include_colab_link": true
    },
    "kernelspec": {
      "name": "python3",
      "display_name": "Python 3"
    }
  },
  "cells": [
    {
      "cell_type": "markdown",
      "metadata": {
        "id": "view-in-github",
        "colab_type": "text"
      },
      "source": [
        "<a href=\"https://colab.research.google.com/github/deepshah1300/AI/blob/master/ai/hw_j077_1stAug.ipynb\" target=\"_parent\"><img src=\"https://colab.research.google.com/assets/colab-badge.svg\" alt=\"Open In Colab\"/></a>"
      ]
    },
    {
      "cell_type": "code",
      "metadata": {
        "id": "NUDfWsV0fzC8",
        "colab_type": "code",
        "colab": {
          "base_uri": "https://localhost:8080/",
          "height": 54
        },
        "outputId": "893a0d86-e7a5-4d70-f1ad-f797c9a3d53f"
      },
      "source": [
        "##1 Validating Postal Codes\n",
        "\n",
        "import re\n",
        "\n",
        "P = input()\n",
        "\n",
        "regex_integer_in_range = r'^[1-9][\\d]{5}$'  # Do not delete 'r'.\n",
        "regex_alternating_repetitive_digit_pair = r'(\\d)(?=\\d\\1)'  # Do not delete 'r'.\n",
        "\n",
        "print (bool(re.match(regex_integer_in_range, P))\n",
        "  and len(re.findall(regex_alternating_repetitive_digit_pair, P)) < 2)"
      ],
      "execution_count": 2,
      "outputs": [
        {
          "output_type": "stream",
          "text": [
            "5000\n",
            "False\n"
          ],
          "name": "stdout"
        }
      ]
    },
    {
      "cell_type": "code",
      "metadata": {
        "id": "fxJVVuLFgmMm",
        "colab_type": "code",
        "colab": {
          "base_uri": "https://localhost:8080/",
          "height": 72
        },
        "outputId": "09d3b716-074b-48dd-f233-3be8a5dc9019"
      },
      "source": [
        "##2 \n",
        "\n",
        "import math\n",
        "import os\n",
        "import random\n",
        "import re\n",
        "import sys\n",
        "\n",
        "\n",
        "# Completingthe 'getWays' function below.\n",
        "# The function might return LONGer_INTEGER.\n",
        "# The function accepts following parameters:\n",
        "#  1. INTEGER n\n",
        "#  2. LONG_INTEGER_ARRAY c\n",
        "\n",
        "\n",
        "N,M = list(map(int,input().strip().split(' ')))\n",
        "coins = list(map(int,input().strip().split(' ')))\n",
        "\n",
        "count = 0\n",
        "def count_make_change_recursive(N, coins, M):\n",
        "    if N < 0:\n",
        "        return 0\n",
        "    if N == 0:\n",
        "        return 1\n",
        "    if M <= 0:\n",
        "        return 0\n",
        "    return count_make_change(N-coins[M-1], coins, M) + count_make_change(N,coins,M-1)\n",
        "\n",
        "\n",
        "def count_make_change_bottom_up(N, coins, M):\n",
        "    counts = [0] * (N+1)\n",
        "    counts[0] = 1\n",
        "    for i in range(0, M):\n",
        "        sum = 0\n",
        "        for j in range(coins[i],N+1):\n",
        "            counts[j] += counts[j-coins[i]]\n",
        "    return counts[N]\n",
        "\n",
        "\n",
        "print(count_make_change_bottom_up(N,coins,M))"
      ],
      "execution_count": 3,
      "outputs": [
        {
          "output_type": "stream",
          "text": [
            "10 4\n",
            "2 5 3 6\n",
            "5\n"
          ],
          "name": "stdout"
        }
      ]
    },
    {
      "cell_type": "code",
      "metadata": {
        "id": "JU772t-U93RI",
        "colab_type": "code",
        "colab": {
          "base_uri": "https://localhost:8080/",
          "height": 90
        },
        "outputId": "a7219ab9-74d3-4cbf-d84b-c25826fceebb"
      },
      "source": [
        "##3\n",
        "\n",
        "def sh_cost(N, b):\n",
        "    r = [[0, 0] for i in range(N)]\n",
        "    for i in range(1, N):\n",
        "        r[i][0] = max(r[i-1][0], r[i-1][1] + abs(b[i-1] - 1))\n",
        "        r[i][1] = max(r[i-1][0] + abs(b[i] - 1), r[i-1][1] + abs(b[i] - b[i-1]))\n",
        "\n",
        "    print(max(r[N-1][0], r[N-1][1]))\n",
        "\n",
        "Input1 = int(input())\n",
        "for i in range(Input1):\n",
        "    N = int(input())\n",
        "    B = [int(i) for i in input().split(' ')]\n",
        "    sh_cost(N, B)"
      ],
      "execution_count": 1,
      "outputs": [
        {
          "output_type": "stream",
          "text": [
            "1\n",
            "5\n",
            "10 1 10 1 10\n",
            "36\n"
          ],
          "name": "stdout"
        }
      ]
    }
  ]
}