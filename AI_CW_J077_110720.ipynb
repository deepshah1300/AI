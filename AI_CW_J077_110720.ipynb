{
  "nbformat": 4,
  "nbformat_minor": 0,
  "metadata": {
    "colab": {
      "name": "AI/CW_J077_110720",
      "provenance": [],
      "authorship_tag": "ABX9TyOGRmVwZYeXcokrhqv/6I9q",
      "include_colab_link": true
    },
    "kernelspec": {
      "name": "python3",
      "display_name": "Python 3"
    }
  },
  "cells": [
    {
      "cell_type": "markdown",
      "metadata": {
        "id": "view-in-github",
        "colab_type": "text"
      },
      "source": [
        "<a href=\"https://colab.research.google.com/github/deepshah1300/AI/blob/master/AI_CW_J077_110720.ipynb\" target=\"_parent\"><img src=\"https://colab.research.google.com/assets/colab-badge.svg\" alt=\"Open In Colab\"/></a>"
      ]
    },
    {
      "cell_type": "code",
      "metadata": {
        "id": "NTNVqcVo25Tv",
        "colab_type": "code",
        "colab": {
          "base_uri": "https://localhost:8080/",
          "height": 34
        },
        "outputId": "a6825a85-f1cb-4afa-c69a-2b594dbc332b"
      },
      "source": [
        "a = 4\n",
        "b = 6\n",
        "c = 3\n",
        "def printer():\n",
        "  print(a+b)\n",
        "def sum(a,b):\n",
        "  print(a+b)\n",
        "  printer()\n",
        "  sum(a,c)\n",
        "  \n",
        "if a>9:\n",
        "  print(a)\n",
        "else:\n",
        "  print(a+9)\n",
        "\n"
      ],
      "execution_count": 7,
      "outputs": [
        {
          "output_type": "stream",
          "text": [
            "13\n"
          ],
          "name": "stdout"
        }
      ]
    },
    {
      "cell_type": "code",
      "metadata": {
        "id": "w9c9L1Yh3fzd",
        "colab_type": "code",
        "colab": {
          "base_uri": "https://localhost:8080/",
          "height": 35
        },
        "outputId": "3b6810f8-8e6e-411d-c0af-0bf00beb6f7b"
      },
      "source": [
        "str(int('10',2))"
      ],
      "execution_count": 8,
      "outputs": [
        {
          "output_type": "execute_result",
          "data": {
            "application/vnd.google.colaboratory.intrinsic": {
              "type": "string"
            },
            "text/plain": [
              "'2'"
            ]
          },
          "metadata": {
            "tags": []
          },
          "execution_count": 8
        }
      ]
    },
    {
      "cell_type": "code",
      "metadata": {
        "id": "3K8gA_NO3iCy",
        "colab_type": "code",
        "colab": {
          "base_uri": "https://localhost:8080/",
          "height": 51
        },
        "outputId": "2f769931-4c35-4096-cb50-3e88589712e7"
      },
      "source": [
        "def sum1():\n",
        "  a = 'wefuibwqbafhc\\n kkahwdhw\\\n",
        "  ashwdnwakln\\\n",
        "  skhax'\n",
        "  print(a)\n",
        "sum1()"
      ],
      "execution_count": 10,
      "outputs": [
        {
          "output_type": "stream",
          "text": [
            "wefuibwqbafhc\n",
            " kkahwdhw  ashwdnwakln  skhax\n"
          ],
          "name": "stdout"
        }
      ]
    },
    {
      "cell_type": "code",
      "metadata": {
        "id": "Dw0zr8J23uZa",
        "colab_type": "code",
        "colab": {
          "base_uri": "https://localhost:8080/",
          "height": 51
        },
        "outputId": "e4ff15a8-831b-4480-dbcc-74b481e23402"
      },
      "source": [
        "class student:\n",
        "  #__name = self.__name\n",
        "  def __init__(self, name):\n",
        "    self.name = name\n",
        "  def displayName(self):\n",
        "    print(self.name)\n",
        "##Class vs Object\n",
        "s1 = student('Deep')\n",
        "s1.displayName()\n",
        "#Raise an error\n",
        "print(s1.name)\n"
      ],
      "execution_count": 11,
      "outputs": [
        {
          "output_type": "stream",
          "text": [
            "Deep\n",
            "Deep\n"
          ],
          "name": "stdout"
        }
      ]
    },
    {
      "cell_type": "code",
      "metadata": {
        "id": "9oBORWLE32qT",
        "colab_type": "code",
        "colab": {
          "base_uri": "https://localhost:8080/",
          "height": 51
        },
        "outputId": "4f5575b4-a65b-4516-d5e7-2170965d9b22"
      },
      "source": [
        "class stud(student):\n",
        "  def __init__(self, a, name):\n",
        "    self.a = a\n",
        "    student.__init__(student, name) \n",
        "\n",
        "s2 = stud(45, 'Deep')\n",
        "print(s2.name)\n",
        "print(s2.a)"
      ],
      "execution_count": 12,
      "outputs": [
        {
          "output_type": "stream",
          "text": [
            "Deep\n",
            "45\n"
          ],
          "name": "stdout"
        }
      ]
    }
  ]
}