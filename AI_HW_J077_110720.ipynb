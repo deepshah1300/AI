{
  "nbformat": 4,
  "nbformat_minor": 0,
  "metadata": {
    "colab": {
      "name": "AI/HW_J077_110720.ipynb",
      "provenance": [],
      "authorship_tag": "ABX9TyMux0yHDbV1Drc3hUja11a0",
      "include_colab_link": true
    },
    "kernelspec": {
      "name": "python3",
      "display_name": "Python 3"
    }
  },
  "cells": [
    {
      "cell_type": "markdown",
      "metadata": {
        "id": "view-in-github",
        "colab_type": "text"
      },
      "source": [
        "<a href=\"https://colab.research.google.com/github/deepshah1300/AI/blob/master/AI_HW_J077_110720.ipynb\" target=\"_parent\"><img src=\"https://colab.research.google.com/assets/colab-badge.svg\" alt=\"Open In Colab\"/></a>"
      ]
    },
    {
      "cell_type": "code",
      "metadata": {
        "id": "6H4ZhETrvCr_",
        "colab_type": "code",
        "colab": {}
      },
      "source": [
        ""
      ],
      "execution_count": null,
      "outputs": []
    },
    {
      "cell_type": "markdown",
      "metadata": {
        "id": "9j-hv-sBvEM-",
        "colab_type": "text"
      },
      "source": [
        "\n",
        "1.Create a custom class DataRead to read csv file using pandas\n",
        "\n",
        "2.Create a custom function RowSelect within the class to select any 2 rows of the the the dataframe\n",
        "\n",
        "3.Create a sub class of DataRead1 as DataRead2 that has function for correlation plots (using any lib for correlation plot)\n",
        "\n",
        "4.Within DataRead2 also create a function to override the custom function of DataRead1 RowSelect to select 3 rows"
      ]
    },
    {
      "cell_type": "code",
      "metadata": {
        "id": "IqVJQCUNvKC2",
        "colab_type": "code",
        "colab": {
          "base_uri": "https://localhost:8080/",
          "height": 679
        },
        "outputId": "384abc7b-a3f5-4280-ec36-b81397fd817a"
      },
      "source": [
        "import pandas as pd\n",
        "import matplotlib.pylab as plt\n",
        "import numpy as np\n",
        "class DataRead :\n",
        "  def __init__ (self,filename):\n",
        "    self.dfile = pd.read_csv(filename)\n",
        "  def display_rows(self,n):\n",
        "    print (self.dfile.iloc[n])\n",
        "class DataRead2(DataRead):\n",
        "  def __init__ (self,filename):\n",
        "    DataRead.__init__(DataRead,filename)\n",
        "  def correlationplot (self):\n",
        "    df2 = self.dfile\n",
        "    corr= df2.corr()\n",
        "    fig = plt.figure()\n",
        "    ax = fig.add_subplot()\n",
        "    cax = ax.matshow(corr, cmap='coolwarm')\n",
        "    fig.colorbar(cax)\n",
        "    ticks = np.arange(0,len(corr.columns),1)\n",
        "    ax.set_xticks(ticks)\n",
        "    ax.set_yticks(ticks)\n",
        "    plt.xticks(rotation=90)\n",
        "    ax.set_xticklabels(corr.columns)\n",
        "    ax.set_yticklabels(corr.columns)\n",
        "    plt.show()\n",
        "  def display_rows(self,n):\n",
        "      print (self.dfile.iloc[n])\n",
        "\n",
        "      \n",
        "filename = 'iris.csv'\n",
        "datafile = DataRead(filename)\n",
        "print(datafile.dfile.head())\n",
        "\n",
        "\n",
        "x = int(input())\n",
        "y = int(input())\n",
        "array = ([x],[y])\n",
        "for i in array:\n",
        "  datafile.display_rows(i)\n",
        "\n",
        "  sub = DataRead2(filename)\n",
        "sub.correlationplot()\n",
        "\n",
        "x = int(input())\n",
        "y = int(input())\n",
        "z = int(input())\n",
        "array = ([x],[y],[z])\n",
        "for i in array:\n",
        "  sub.display_rows(i)"
      ],
      "execution_count": 2,
      "outputs": [
        {
          "output_type": "stream",
          "text": [
            "   sepal_length  sepal_width  petal_length  petal_width species\n",
            "0           5.1          3.5           1.4          0.2  setosa\n",
            "1           4.9          3.0           1.4          0.2  setosa\n",
            "2           4.7          3.2           1.3          0.2  setosa\n",
            "3           4.6          3.1           1.5          0.2  setosa\n",
            "4           5.0          3.6           1.4          0.2  setosa\n",
            "0\n",
            "1\n",
            "   sepal_length  sepal_width  petal_length  petal_width species\n",
            "0           5.1          3.5           1.4          0.2  setosa\n",
            "   sepal_length  sepal_width  petal_length  petal_width species\n",
            "1           4.9          3.0           1.4          0.2  setosa\n"
          ],
          "name": "stdout"
        },
        {
          "output_type": "display_data",
          "data": {
            "image/png": "[encoded data removed]",
            "text/plain": [
              "<Figure size 432x288 with 2 Axes>"
            ]
          },
          "metadata": {
            "tags": [],
            "needs_background": "light"
          }
        },
        {
          "output_type": "stream",
          "text": [
            "0\n",
            "1\n",
            "2\n",
            "   sepal_length  sepal_width  petal_length  petal_width species\n",
            "0           5.1          3.5           1.4          0.2  setosa\n",
            "   sepal_length  sepal_width  petal_length  petal_width species\n",
            "1           4.9          3.0           1.4          0.2  setosa\n",
            "   sepal_length  sepal_width  petal_length  petal_width species\n",
            "2           4.7          3.2           1.3          0.2  setosa\n"
          ],
          "name": "stdout"
        }
      ]
    }
  ]
}