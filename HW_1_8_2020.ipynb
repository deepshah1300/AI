{
  "nbformat": 4,
  "nbformat_minor": 0,
  "metadata": {
    "colab": {
      "name": "HW/1_8_2020.ipynb",
      "provenance": [],
      "authorship_tag": "ABX9TyMWVL5M6D2aPyGGYN6AURTL",
      "include_colab_link": true
    },
    "kernelspec": {
      "name": "python3",
      "display_name": "Python 3"
    }
  },
  "cells": [
    {
      "cell_type": "markdown",
      "metadata": {
        "id": "view-in-github",
        "colab_type": "text"
      },
      "source": [
        "<a href=\"https://colab.research.google.com/github/deepshah1300/AI/blob/master/HW_1_8_2020.ipynb\" target=\"_parent\"><img src=\"https://colab.research.google.com/assets/colab-badge.svg\" alt=\"Open In Colab\"/></a>"
      ]
    },
    {
      "cell_type": "code",
      "metadata": {
        "id": "yZj6Qj7axvP6",
        "colab_type": "code",
        "colab": {
          "base_uri": "https://localhost:8080/",
          "height": 87
        },
        "outputId": "20c6d14d-b75b-401a-8ce4-244d53ae91f4"
      },
      "source": [
        "\n",
        "n=int(input(\"no. of weights: \"))\n",
        "weight=list(map(int,input(\"Enter the weights\").split()))[:n]\n",
        "val=list(map(int,input(\"Enter values of weight\").split()))[:n]\n",
        "w=int(input(\"enter maximum weight\"))"
      ],
      "execution_count": 2,
      "outputs": [
        {
          "output_type": "stream",
          "text": [
            "no. of weights: 3\n",
            "Enter the weights12 13 14\n",
            "Enter values of weight1 2 3\n",
            "enter maximum weight50\n"
          ],
          "name": "stdout"
        }
      ]
    },
    {
      "cell_type": "code",
      "metadata": {
        "id": "lUTcyCXZyQZc",
        "colab_type": "code",
        "colab": {}
      },
      "source": [
        "import numpy as np\n"
      ],
      "execution_count": 3,
      "outputs": []
    },
    {
      "cell_type": "code",
      "metadata": {
        "id": "gorP1jAL1HXd",
        "colab_type": "code",
        "colab": {}
      },
      "source": [
        "def knapSack(w, weight, val, n):\n",
        "\n",
        "    m=np.zeros((n+1,w+1))\n",
        "    for i in range(n + 1): \n",
        "      for j in range(w + 1):\n",
        "        if i == 0 or j == 0: \n",
        "          m[i][j] = 0\n",
        "        elif weight[i-1] <= j: \n",
        "          m[i][j] = max(val[i-1]+m[i-1][j-weight[i-1]], m[i-1][j]) \n",
        "        else: \n",
        "           m[i][j] = m[i-1][j] \n",
        "  \n",
        "    return m[n][w]"
      ],
      "execution_count": 4,
      "outputs": []
    },
    {
      "cell_type": "code",
      "metadata": {
        "id": "hCb1kjkx1QxB",
        "colab_type": "code",
        "colab": {
          "base_uri": "https://localhost:8080/",
          "height": 34
        },
        "outputId": "7429610e-6c48-428e-f5f0-50961b395337"
      },
      "source": [
        "knapSack(w,weight,val,n)"
      ],
      "execution_count": 5,
      "outputs": [
        {
          "output_type": "execute_result",
          "data": {
            "text/plain": [
              "6.0"
            ]
          },
          "metadata": {
            "tags": []
          },
          "execution_count": 5
        }
      ]
    }
  ]
}