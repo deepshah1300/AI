{
  "nbformat": 4,
  "nbformat_minor": 0,
  "metadata": {
    "colab": {
      "name": "Untitled16.ipynb",
      "provenance": [],
      "authorship_tag": "ABX9TyMIIG3lbmBJpzuvph/zpMdc",
      "include_colab_link": true
    },
    "kernelspec": {
      "name": "python3",
      "display_name": "Python 3"
    }
  },
  "cells": [
    {
      "cell_type": "markdown",
      "metadata": {
        "id": "view-in-github",
        "colab_type": "text"
      },
      "source": [
        "<a href=\"https://colab.research.google.com/github/deepshah1300/AI/blob/master/cw/j077_1082020.ipynb\" target=\"_parent\"><img src=\"https://colab.research.google.com/assets/colab-badge.svg\" alt=\"Open In Colab\"/></a>"
      ]
    },
    {
      "cell_type": "code",
      "metadata": {
        "id": "ZObA5Y5rNuTr",
        "colab_type": "code",
        "colab": {
          "base_uri": "https://localhost:8080/",
          "height": 90
        },
        "outputId": "e25224ae-7e81-4533-d00c-286f45381e81"
      },
      "source": [
        "\n",
        "n=5\n",
        "for i in range(1,n):\n",
        "  print(i)"
      ],
      "execution_count": 2,
      "outputs": [
        {
          "output_type": "stream",
          "text": [
            "1\n",
            "2\n",
            "3\n",
            "4\n"
          ],
          "name": "stdout"
        }
      ]
    },
    {
      "cell_type": "code",
      "metadata": {
        "id": "7in2bndaOILT",
        "colab_type": "code",
        "colab": {}
      },
      "source": [
        "#Factorial\n",
        "def fact_recursion(n):\n",
        "  fact=1\n",
        "  if (n==0):\n",
        "    return fact\n",
        "  else:\n",
        "    return n*fact_recursion(n-1)"
      ],
      "execution_count": 3,
      "outputs": []
    },
    {
      "cell_type": "code",
      "metadata": {
        "id": "44Xksf5EOMFf",
        "colab_type": "code",
        "colab": {
          "base_uri": "https://localhost:8080/",
          "height": 35
        },
        "outputId": "d526fb12-2f90-4869-b14a-e92e4b690aae"
      },
      "source": [
        "def fact_loop(n):\n",
        "  fact=1\n",
        "  if (n==0):\n",
        "    return fact\n",
        "  else:\n",
        "    for i in range(1,n+1):\n",
        "      fact=fact*i\n",
        "    return fact\n",
        "    \n",
        "fact1=fact_recursion(5)\n",
        "fact2=fact_loop(5)\n",
        "print(fact1,fact2)"
      ],
      "execution_count": 5,
      "outputs": [
        {
          "output_type": "stream",
          "text": [
            "120 120\n"
          ],
          "name": "stdout"
        }
      ]
    },
    {
      "cell_type": "code",
      "metadata": {
        "id": "nTO9YkL9OTqg",
        "colab_type": "code",
        "colab": {}
      },
      "source": [
        "#Fibonacci\n",
        "def fibo_recur(n):\n",
        "   fibo[0],fibo[1]=0,1\n",
        "   if(n==0):\n",
        "     return fibo[0]\n",
        "   elif(n==1):\n",
        "     return fibo[1]\n",
        "   else:\n",
        "     while count<n:\n",
        "       print(fibo[0])\n",
        "       fibo"
      ],
      "execution_count": 6,
      "outputs": []
    },
    {
      "cell_type": "code",
      "metadata": {
        "id": "CkiUKpn5OWsN",
        "colab_type": "code",
        "colab": {
          "base_uri": "https://localhost:8080/",
          "height": 35
        },
        "outputId": "a8bd6e22-6165-432f-c505-21a731e3b6e7"
      },
      "source": [
        "def fibo_1(n):\n",
        "  if n==0 or n==1:\n",
        "    return n\n",
        "  else:\n",
        "    return fibo_1(n-1)+fibo_1(n-2)\n",
        "\n",
        "fibo_1(5)"
      ],
      "execution_count": 7,
      "outputs": [
        {
          "output_type": "execute_result",
          "data": {
            "text/plain": [
              "5"
            ]
          },
          "metadata": {
            "tags": []
          },
          "execution_count": 7
        }
      ]
    },
    {
      "cell_type": "code",
      "metadata": {
        "id": "_o8WuiJ8OcFH",
        "colab_type": "code",
        "colab": {
          "base_uri": "https://localhost:8080/",
          "height": 54
        },
        "outputId": "81814735-a659-494d-ba2d-8a1111c60cb8"
      },
      "source": [
        "list1=[4,3,1,6,7,99,77,3,5,696,896,321,332,533]\n",
        "list2=list1.copy().sort()\n",
        "list2\n",
        "print(list2)\n",
        "None\n",
        "list1.sort()\n",
        "list3=list1.sort()\n",
        "list3\n",
        "print(list1)"
      ],
      "execution_count": 8,
      "outputs": [
        {
          "output_type": "stream",
          "text": [
            "None\n",
            "[1, 3, 3, 4, 5, 6, 7, 77, 99, 321, 332, 533, 696, 896]\n"
          ],
          "name": "stdout"
        }
      ]
    }
  ]
}