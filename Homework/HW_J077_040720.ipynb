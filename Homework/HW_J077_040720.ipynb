{
  "nbformat": 4,
  "nbformat_minor": 0,
  "metadata": {
    "colab": {
      "name": "HW_J077_040720.ipynb",
      "provenance": [],
      "authorship_tag": "ABX9TyM3Mx2syoPYUoCnQGT0cCJk",
      "include_colab_link": true
    },
    "kernelspec": {
      "name": "python3",
      "display_name": "Python 3"
    }
  },
  "cells": [
    {
      "cell_type": "markdown",
      "metadata": {
        "id": "view-in-github",
        "colab_type": "text"
      },
      "source": [
        "<a href=\"https://colab.research.google.com/github/deepshah1300/AI/blob/master/Homework/HW_J077_040720.ipynb\" target=\"_parent\"><img src=\"https://colab.research.google.com/assets/colab-badge.svg\" alt=\"Open In Colab\"/></a>"
      ]
    },
    {
      "cell_type": "code",
      "metadata": {
        "id": "KxLqFAcbsyBa",
        "colab_type": "code",
        "colab": {}
      },
      "source": [
        "#question1\n",
        "n = int(raw_input())\n",
        "if n % 2 == 1:\n",
        "    print \"Weird\"\n",
        "elif n % 2 == 0 and 2 <= n <= 5:\n",
        "    print \"Not Weird\"\n",
        "elif n % 2 == 0 and 6 <= n <= 20:\n",
        "    print \"Weird\"\n",
        "else:\n",
        "    print \"Not Weird\"\n",
        "\n",
        "    #question2\n",
        "\n",
        "    a = int(raw_input())\n",
        "b = int(raw_input())\n",
        "\n",
        "print a + b\n",
        "print a - b\n",
        "print a * b\n",
        "\n",
        "#question2\n",
        "\n",
        "from __future__ import division\n",
        "a = int(raw_input())\n",
        "b = int(raw_input())\n",
        "\n",
        "print a // b\n",
        "print a / b\n",
        "\n",
        "#question3\n",
        "\n",
        "from __future__ import division\n",
        "a = int(raw_input())\n",
        "b = int(raw_input())\n",
        "\n",
        "print a // b\n",
        "print a / b\n",
        "\n",
        "#question4\n",
        "\n",
        "for i in range(int(raw_input())):\n",
        "    print i**2\n",
        "\n",
        "    #question 5\n",
        "    def is_leap(year):\n",
        "    leap = False\n",
        "    \n",
        "    if (year%4==0):\n",
        "        leap=True\n",
        "        if(year%100==0):\n",
        "            leap=False\n",
        "            if(year%400==0):\n",
        "                leap=True\n",
        "    return leap\n",
        "#question6\n",
        "\n",
        "from __future__ import print_function\n",
        "print(*range(1, input() + 1), sep=\"\") \n",
        "\n",
        "#question7\n",
        "\n",
        "if __name__ == '__main__':\n",
        "    x = int(input())\n",
        "    y = int(input())\n",
        "    z = int(input())\n",
        "    n = int(input())\n",
        "print( [[i,j,k] for i in range( x + 1) for j in range( y + 1) for k in range(z+1) if ( ( i + j + k ) != n )  ])\n"
      ],
      "execution_count": null,
      "outputs": []
    }
  ]
}